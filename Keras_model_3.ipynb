{
  "nbformat": 4,
  "nbformat_minor": 0,
  "metadata": {
    "colab": {
      "name": "Keras_model_3.ipynb",
      "provenance": [],
      "authorship_tag": "ABX9TyN+YIKci9XCBokEOY6uxa/1",
      "include_colab_link": true
    },
    "kernelspec": {
      "name": "python3",
      "display_name": "Python 3"
    },
    "language_info": {
      "name": "python"
    }
  },
  "cells": [
    {
      "cell_type": "markdown",
      "metadata": {
        "id": "view-in-github",
        "colab_type": "text"
      },
      "source": [
        "<a href=\"https://colab.research.google.com/github/Code83/API-HUG/blob/master/Keras_model_3.ipynb\" target=\"_parent\"><img src=\"https://colab.research.google.com/assets/colab-badge.svg\" alt=\"Open In Colab\"/></a>"
      ]
    },
    {
      "cell_type": "code",
      "execution_count": null,
      "metadata": {
        "id": "pviWw5tQhg6N"
      },
      "outputs": [],
      "source": [
        "import pandas as pd\n",
        "import numpy as np\n",
        "import matplotlib.pyplot as plt\n",
        "titanic=pd.read_csv('https://raw.githubusercontent.com/sightes/COFFETALKS/main/Titanic.csv',sep=',')\n",
        "\n"
      ]
    },
    {
      "cell_type": "code",
      "source": [
        "from sklearn.model_selection import train_test_split\n",
        "X=titanic.drop(\"Survived\",axis=1)\n",
        "y=titanic.Survived\n",
        "X_train,X_test,y_train,y_test=train_test_split(X,y,test_size=0.3, random_state=42)\n",
        "\n"
      ],
      "metadata": {
        "id": "Z80bFa4oiF3K"
      },
      "execution_count": null,
      "outputs": []
    },
    {
      "cell_type": "code",
      "source": [
        "#mapa de dispersion\n",
        "fig=plt.figure(figsize=(5,5))\n",
        "plt.plot(X_train['Age'].iloc[np.where(y_train==0)],\n",
        "         X_train['Sex'].iloc[np.where(y_train==0)],'rx')\n",
        "\n",
        "plt.plot(X_train['Age'].iloc[np.where(y_train==1)],\n",
        "         X_train['Sex'].iloc[np.where(y_train==1)],'go')"
      ],
      "metadata": {
        "colab": {
          "base_uri": "https://localhost:8080/",
          "height": 337
        },
        "id": "ATLPrFe4kwP4",
        "outputId": "c29bd4ba-1f80-4a3a-d362-56d6861cd29c"
      },
      "execution_count": null,
      "outputs": [
        {
          "output_type": "execute_result",
          "data": {
            "text/plain": [
              "[<matplotlib.lines.Line2D at 0x7efdacc30810>]"
            ]
          },
          "metadata": {},
          "execution_count": 34
        },
        {
          "output_type": "display_data",
          "data": {
            "text/plain": [
              "<Figure size 360x360 with 1 Axes>"
            ],
            "image/png": "[encoded data removed]"
          },
          "metadata": {
            "needs_background": "light"
          }
        }
      ]
    },
    {
      "cell_type": "code",
      "source": [
        "#Alternativa 3\n",
        "from keras.models import Model, Input\n",
        "#from keras.models import Input\n",
        "#import numpy as np\n",
        "from keras.layers.core import Dense, Activation, Dropout\n",
        "\n",
        "def ini_pesos(shape,dtype=None):\n",
        "  return np.random.normal(loc=0.75, scale=1e-2, size=shape)\n",
        "\n",
        "I=Input(shape=(5,))\n",
        "L1=Dense(4,activation='sigmoid', kernel_initializer=ini_pesos)(I)\n",
        "L2=Dense(2,activation='sigmoid', kernel_initializer=ini_pesos)(L1)\n",
        "\n",
        "S=Dense(1,activation='sigmoid')(L2)\n",
        "\n",
        "modelo=Model(inputs=I,outputs=S)\n",
        "\n",
        "modelo.compile(loss='mean_squared_error',optimizer='adam',metrics=['accuracy'])\n",
        "modelo.fit(X_train,y_train,epochs=5000,verbose=0,use_multiprocessing=True)\n",
        "y_pred=modelo.predict(X_test)"
      ],
      "metadata": {
        "id": "IuvBOAjkjS9W"
      },
      "execution_count": null,
      "outputs": []
    },
    {
      "cell_type": "code",
      "source": [
        "y_pred=1*(y_pred>0.5)\n",
        "y_pred=np.transpose(y_pred)[0]"
      ],
      "metadata": {
        "id": "Cy7GNrEEqJJd"
      },
      "execution_count": null,
      "outputs": []
    },
    {
      "cell_type": "code",
      "source": [
        "a=((y_test.values)*2)-y_pred\n",
        "VN=np.sum(1*[a==0])\n",
        "VP=np.sum(1*[a==2])\n",
        "FN=np.sum(1*[a==1])\n",
        "FP=np.sum(1*[a==-1])"
      ],
      "metadata": {
        "id": "-y73SYLLt-Jl"
      },
      "execution_count": null,
      "outputs": []
    },
    {
      "cell_type": "code",
      "source": [
        "ACC=(VN+VP)/(VN+VP+FN+FP)\n",
        "ACC"
      ],
      "metadata": {
        "colab": {
          "base_uri": "https://localhost:8080/"
        },
        "id": "oKb3biisuRlF",
        "outputId": "f4e5431c-9da2-4dc9-89de-48970168dd5f"
      },
      "execution_count": null,
      "outputs": [
        {
          "output_type": "execute_result",
          "data": {
            "text/plain": [
              "0.6976744186046512"
            ]
          },
          "metadata": {},
          "execution_count": 43
        }
      ]
    }
  ]
}